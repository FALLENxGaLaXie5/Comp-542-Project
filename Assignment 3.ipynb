{
 "cells": [
  {
   "cell_type": "code",
   "execution_count": 2,
   "metadata": {
    "collapsed": true
   },
   "outputs": [],
   "source": [
    "#import all needed packages\n",
    "import pandas as pd\n",
    "from sklearn.model_selection import train_test_split\n",
    "from sklearn.svm import SVC\n",
    "from sklearn.preprocessing import scale\n",
    "from sklearn import metrics\n",
    "\n",
    "#import data as data frames\n",
    "train_dataFrame = pd.read_csv(\"train.csv\")\n",
    "\n",
    "#Here in case there is an extra test set, but the provided test set does not come with labels\n",
    "frames = [train_dataFrame]\n",
    "combinedDataFrame = pd.concat(frames)"
   ]
  },
  {
   "cell_type": "code",
   "execution_count": 102,
   "outputs": [
    {
     "data": {
      "text/plain": "(42000, 785)"
     },
     "execution_count": 102,
     "metadata": {},
     "output_type": "execute_result"
    }
   ],
   "source": [
    "combinedDataFrame.dropna()\n",
    "combinedDataFrame.shape"
   ],
   "metadata": {
    "collapsed": false
   }
  },
  {
   "cell_type": "code",
   "execution_count": 103,
   "outputs": [],
   "source": [
    "## Set up the label variable as y\n",
    "y = combinedDataFrame['label']\n",
    "\n",
    "## Dropping feature 'label'\n",
    "X = combinedDataFrame.drop(columns = 'label')"
   ],
   "metadata": {
    "collapsed": false
   }
  },
  {
   "cell_type": "code",
   "execution_count": 104,
   "outputs": [],
   "source": [
    "# Normalize the set (between 0 and 1)\n",
    "X = X/255.0\n",
    "# Scale the set\n",
    "X_scaled = scale(X)"
   ],
   "metadata": {
    "collapsed": false
   }
  },
  {
   "cell_type": "code",
   "execution_count": 105,
   "outputs": [
    {
     "name": "stdout",
     "output_type": "stream",
     "text": [
      "(33600, 784)\n",
      "(8400, 784)\n",
      "(33600,)\n",
      "(8400,)\n"
     ]
    }
   ],
   "source": [
    "# Split the set into randomized training and test feature/label sets\n",
    "X_train, X_test, y_train, y_test = train_test_split(X_scaled, y, test_size = 0.2, train_size = 0.8 ,random_state = 10)\n",
    "\n",
    "print(X_train.shape)\n",
    "print(X_test.shape)\n",
    "print(y_train.shape)\n",
    "print(y_test.shape)"
   ],
   "metadata": {
    "collapsed": false
   }
  },
  {
   "cell_type": "code",
   "execution_count": 106,
   "outputs": [
    {
     "name": "stdout",
     "output_type": "stream",
     "text": [
      "accuracy: 0.9188095238095239 \n",
      "\n",
      "[[774   0   0   0   5   7   7   1   2   0]\n",
      " [  0 930   2   2   1   1   0   3   7   0]\n",
      " [ 10  14 778  16   6   6   6   6  11   3]\n",
      " [  6   2  25 776   0  29   1   6  10   1]\n",
      " [  2   1  11   3 783   2   2   2   0  20]\n",
      " [  5   8  11  30   4 675  11   1  19   9]\n",
      " [ 10   1  14   0   8  11 743   0   0   0]\n",
      " [  3   3  12   4  13   0   0 818   1  15]\n",
      " [  5  21  20  40   4  36   8   2 692   8]\n",
      " [  3   3   5  14  32   6   1  35   7 749]]\n"
     ]
    }
   ],
   "source": [
    "# Linear model using One versus all (shape is ovr, same thing in sklearn)\n",
    "\n",
    "linearModel = SVC(kernel='linear', decision_function_shape='ovr')\n",
    "linearModel.fit(X_train, y_train)\n",
    "\n",
    "# Prediction\n",
    "labelPrediction = linearModel.predict(X_test)\n",
    "\n",
    "# Print Confusion Matrix and Accuracy\n",
    "print(\"accuracy:\", metrics.accuracy_score(y_true=y_test, y_pred=labelPrediction), \"\\n\")\n",
    "print(metrics.confusion_matrix(y_true=y_test, y_pred=labelPrediction))"
   ],
   "metadata": {
    "collapsed": false
   }
  },
  {
   "cell_type": "code",
   "execution_count": 107,
   "outputs": [
    {
     "name": "stdout",
     "output_type": "stream",
     "text": [
      "accuracy: 0.9678571428571429 \n",
      "\n",
      "[[781   0   3   1   0   1   4   3   3   0]\n",
      " [  0 934   4   2   2   0   1   3   0   0]\n",
      " [  4   3 828   4   3   1   0  10   3   0]\n",
      " [  1   0   8 821   0  11   0  11   3   1]\n",
      " [  1   1   2   0 807   1   4   3   1   6]\n",
      " [  0   0   1  10   1 745   4   5   6   1]\n",
      " [  5   1   2   0   2   2 771   4   0   0]\n",
      " [  1   2   6   2   4   0   1 845   0   8]\n",
      " [  3   5   9   7   5   7   5   3 787   5]\n",
      " [  1   0   1  11   7   2   1  19   2 811]]\n"
     ]
    }
   ],
   "source": [
    "# RBF Kernel, C=1, default value of gamma\n",
    "\n",
    "# Create Model\n",
    "rbfKernelModel = SVC(C=10, gamma=0.001, kernel='rbf')\n",
    "# Train Model\n",
    "rbfKernelModel.fit(X_train, y_train)\n",
    "# Create label prediction\n",
    "labelPrediction = rbfKernelModel.predict(X_test)\n",
    "\n",
    "#Print accuracy and confusion matrix\n",
    "print(\"accuracy:\", metrics.accuracy_score(y_true=y_test, y_pred=labelPrediction), \"\\n\")\n",
    "print(metrics.confusion_matrix(y_true=y_test, y_pred=labelPrediction))"
   ],
   "metadata": {
    "collapsed": false
   }
  }
 ],
 "metadata": {
  "kernelspec": {
   "display_name": "Python 3",
   "language": "python",
   "name": "python3"
  },
  "language_info": {
   "codemirror_mode": {
    "name": "ipython",
    "version": 2
   },
   "file_extension": ".py",
   "mimetype": "text/x-python",
   "name": "python",
   "nbconvert_exporter": "python",
   "pygments_lexer": "ipython2",
   "version": "2.7.6"
  }
 },
 "nbformat": 4,
 "nbformat_minor": 0
}
