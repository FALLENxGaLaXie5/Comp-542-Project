{
 "cells": [
  {
   "cell_type": "code",
   "execution_count": 1,
   "metadata": {
    "collapsed": true
   },
   "outputs": [],
   "source": [
    "#Import All Required Packages"
   ]
  },
  {
   "cell_type": "code",
   "execution_count": null,
   "outputs": [],
   "source": [
    "import pandas as pd"
   ],
   "metadata": {
    "collapsed": false
   }
  },
  {
   "cell_type": "code",
   "execution_count": null,
   "outputs": [],
   "source": [
    "#Data Processing"
   ],
   "metadata": {
    "collapsed": false
   }
  },
  {
   "cell_type": "code",
   "execution_count": 2,
   "outputs": [
    {
     "name": "stdout",
     "output_type": "stream",
     "text": [
      "   LST_DATE   LONGITUDE  LATITUDE   T_DAILY_MAX    T_DAILY_AVG  \\\n",
      "0   20160101    -123.07      38.32          10.9           6.0   \n",
      "1   20160102    -123.07      38.32          11.3           8.0   \n",
      "2   20160103    -123.07      38.32           9.6           8.0   \n",
      "\n",
      "    P_DAILY_CALC   SOLARAD_DAILY   SUR_TEMP_DAILY_MAX   SUR_TEMP_DAILY_AVG   \\\n",
      "0             0.0            9.49                 13.3                  3.0   \n",
      "1             0.0            5.02                 14.2                  6.9   \n",
      "2             9.2            1.34                  8.1                  6.7   \n",
      "\n",
      "   RH_DAILY_MIN   RH_DAILY_AVG   SOIL_MOISTURE_5_DAILY   \\\n",
      "0           34.0           44.8                   0.110   \n",
      "1           43.4           47.9                   0.103   \n",
      "2           49.6           70.4                   0.132   \n",
      "\n",
      "   SOIL_MOISTURE_10_DAILY   SOIL_MOISTURE_20_DAILY   SOIL_MOISTURE_50_DAILY   \\\n",
      "0                    0.129                    0.159                    0.153   \n",
      "1                    0.126                    0.157                    0.151   \n",
      "2                    0.129                    0.156                    0.151   \n",
      "\n",
      "   SOIL_MOISTURE_100_DAILY   SOIL_TEMP_5_DAILY   SOIL_TEMP_10_DAILY   \n",
      "0                     0.155                 6.4                  8.3  \n",
      "1                     0.156                 6.7                  8.1  \n",
      "2                     0.155                 7.3                  8.3  \n",
      "       LST_DATE   LONGITUDE  LATITUDE   T_DAILY_MAX    T_DAILY_AVG  \\\n",
      "17889   20191229    -119.82      37.76           5.1           2.3   \n",
      "17890   20191230    -119.82      37.76           5.5           2.0   \n",
      "17891   20191231    -119.82      37.76          10.3           5.8   \n",
      "\n",
      "        P_DAILY_CALC   SOLARAD_DAILY   SUR_TEMP_DAILY_MAX   \\\n",
      "17889             0.0            4.74                  1.0   \n",
      "17890             0.0           10.25                  0.5   \n",
      "17891             0.0            9.29                  0.9   \n",
      "\n",
      "       SUR_TEMP_DAILY_AVG   RH_DAILY_MIN   RH_DAILY_AVG   \\\n",
      "17889                 -1.5           38.2           54.7   \n",
      "17890                 -4.2           33.5           63.0   \n",
      "17891                 -3.2           17.1           34.4   \n",
      "\n",
      "       SOIL_MOISTURE_5_DAILY   SOIL_MOISTURE_10_DAILY   \\\n",
      "17889                   0.146                    0.216   \n",
      "17890                   0.146                    0.218   \n",
      "17891                   0.148                    0.225   \n",
      "\n",
      "       SOIL_MOISTURE_20_DAILY   SOIL_MOISTURE_50_DAILY   \\\n",
      "17889                    0.149                    0.139   \n",
      "17890                    0.149                    0.140   \n",
      "17891                    0.153                    0.142   \n",
      "\n",
      "       SOIL_MOISTURE_100_DAILY   SOIL_TEMP_5_DAILY   SOIL_TEMP_10_DAILY   \n",
      "17889                     0.166                 1.6                  2.5  \n",
      "17890                     0.165                 1.6                  2.5  \n",
      "17891                     0.166                 1.6                  2.4  \n"
     ]
    }
   ],
   "source": [
    "#Import Raw Weather Data and print out 3 tuples at the tail and at the head\n",
    "dataFrame = pd.read_csv(\"Combined Weather Data 2013-2019.csv\")\n",
    "print(dataFrame.head(3))\n",
    "print(dataFrame.tail(3))"
   ],
   "metadata": {
    "collapsed": false
   }
  },
  {
   "cell_type": "code",
   "execution_count": null,
   "outputs": [],
   "source": [
    "#Print out all weather tupples belows to station 1\n",
    "dataFrame = dataFrame.assign(Station_Num=1)"
   ],
   "metadata": {
    "collapsed": false
   }
  },
  {
   "cell_type": "code",
   "execution_count": null,
   "outputs": [],
   "source": [
    "#print out the entire\n",
    "print(dataFrame)"
   ],
   "metadata": {
    "collapsed": false
   }
  }
 ],
 "metadata": {
  "kernelspec": {
   "display_name": "Python 3",
   "language": "python",
   "name": "python3"
  },
  "language_info": {
   "codemirror_mode": {
    "name": "ipython",
    "version": 2
   },
   "file_extension": ".py",
   "mimetype": "text/x-python",
   "name": "python",
   "nbconvert_exporter": "python",
   "pygments_lexer": "ipython2",
   "version": "2.7.6"
  }
 },
 "nbformat": 4,
 "nbformat_minor": 0
}
