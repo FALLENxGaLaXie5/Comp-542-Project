{
 "cells": [
  {
   "cell_type": "code",
   "execution_count": 2,
   "metadata": {
    "collapsed": true
   },
   "outputs": [],
   "source": [
    "from sklearn.tree import DecisionTreeClassifier\n",
    "import pandas as pd\n",
    "from sklearn.model_selection import train_test_split\n",
    "from sklearn.metrics import confusion_matrix\n",
    "from sklearn.metrics import classification_report\n",
    "from sklearn.svm import SVC\n",
    "from sklearn.preprocessing import scale\n",
    "from sklearn import metrics\n",
    "\n",
    "#Read data from the spreadsheet\n",
    "data = pd.read_csv(\"cleaned_mlready_combinedData1.csv\")"
   ]
  },
  {
   "cell_type": "code",
   "execution_count": 3,
   "outputs": [
    {
     "data": {
      "text/plain": "(7271, 16)"
     },
     "execution_count": 3,
     "metadata": {},
     "output_type": "execute_result"
    }
   ],
   "source": [
    "# check out fire and no fire ratio\n",
    "data[\"Fire\"].value_counts()\n",
    "data.dropna()\n",
    "data.shape"
   ],
   "metadata": {
    "collapsed": false
   }
  },
  {
   "cell_type": "code",
   "execution_count": 4,
   "outputs": [],
   "source": [
    "## Set up the label variable as y\n",
    "y = data['Fire']\n",
    "\n",
    "## Dropping feature 'label'\n",
    "X = data.drop(columns = 'Fire')"
   ],
   "metadata": {
    "collapsed": false
   }
  },
  {
   "cell_type": "code",
   "execution_count": 5,
   "outputs": [],
   "source": [
    "# Scale the set as part of data cleaning process\n",
    "X_scaled = scale(X)"
   ],
   "metadata": {
    "collapsed": false
   }
  },
  {
   "cell_type": "code",
   "execution_count": 6,
   "outputs": [
    {
     "name": "stdout",
     "output_type": "stream",
     "text": [
      "(2908, 15)\n",
      "(4363, 15)\n",
      "(2908,)\n",
      "(4363,)\n"
     ]
    }
   ],
   "source": [
    "# Split the set into randomized training and test feature/label sets. Use test set size of 60%, training set size of 40%\n",
    "X_train, X_test, y_train, y_test = train_test_split(X_scaled, y, test_size = 0.6, train_size = 0.4 ,random_state = 4)\n",
    "\n",
    "print(X_train.shape)\n",
    "print(X_test.shape)\n",
    "print(y_train.shape)\n",
    "print(y_test.shape)"
   ],
   "metadata": {
    "collapsed": false
   }
  },
  {
   "cell_type": "code",
   "execution_count": 7,
   "outputs": [
    {
     "name": "stdout",
     "output_type": "stream",
     "text": [
      "Accuracy RBF: 0.9841851936740774 \n",
      "\n"
     ]
    }
   ],
   "source": [
    "# Test out using RBF Kernel, as it's not very linear data\n",
    "\n",
    "# Create Model\n",
    "rbfKernelModel = SVC(C=10, gamma=0.01, kernel='rbf')\n",
    "# Train Model\n",
    "rbfKernelModel.fit(X_train, y_train)\n",
    "# Create label prediction\n",
    "labelPrediction = rbfKernelModel.predict(X_test)\n",
    "\n",
    "#Print accuracy and confusion matrix\n",
    "print(\"Accuracy RBF:\", metrics.accuracy_score(y_true=y_test, y_pred=labelPrediction), \"\\n\")"
   ],
   "metadata": {
    "collapsed": false
   }
  },
  {
   "cell_type": "markdown",
   "source": [],
   "metadata": {
    "collapsed": false
   }
  },
  {
   "cell_type": "code",
   "execution_count": 8,
   "outputs": [
    {
     "name": "stdout",
     "output_type": "stream",
     "text": [
      "Accuracy RBF No Oversampling: 0.9841851936740774 \n",
      "\n",
      "              precision    recall  f1-score   support\n",
      "\n",
      "           0       0.98      1.00      0.99      4294\n",
      "           1       0.00      0.00      0.00        69\n",
      "\n",
      "    accuracy                           0.98      4363\n",
      "   macro avg       0.49      0.50      0.50      4363\n",
      "weighted avg       0.97      0.98      0.98      4363\n",
      "\n"
     ]
    },
    {
     "name": "stderr",
     "output_type": "stream",
     "text": [
      "C:\\Users\\stewa\\OneDrive\\Desktop\\Class\\Comp 542\\Comp 542 Project\\Comp-542-Project\\venv\\lib\\site-packages\\sklearn\\metrics\\_classification.py:1334: UndefinedMetricWarning: Precision and F-score are ill-defined and being set to 0.0 in labels with no predicted samples. Use `zero_division` parameter to control this behavior.\n",
      "  _warn_prf(average, modifier, msg_start, len(result))\n",
      "C:\\Users\\stewa\\OneDrive\\Desktop\\Class\\Comp 542\\Comp 542 Project\\Comp-542-Project\\venv\\lib\\site-packages\\sklearn\\metrics\\_classification.py:1334: UndefinedMetricWarning: Precision and F-score are ill-defined and being set to 0.0 in labels with no predicted samples. Use `zero_division` parameter to control this behavior.\n",
      "  _warn_prf(average, modifier, msg_start, len(result))\n",
      "C:\\Users\\stewa\\OneDrive\\Desktop\\Class\\Comp 542\\Comp 542 Project\\Comp-542-Project\\venv\\lib\\site-packages\\sklearn\\metrics\\_classification.py:1334: UndefinedMetricWarning: Precision and F-score are ill-defined and being set to 0.0 in labels with no predicted samples. Use `zero_division` parameter to control this behavior.\n",
      "  _warn_prf(average, modifier, msg_start, len(result))\n"
     ]
    }
   ],
   "source": [
    "#baseline predictions, amd confusion matrix of the baseline model\n",
    "prediction_base = rbfKernelModel.predict(X_test)\n",
    "confusion_matrix(y_test, prediction_base, labels=[0,1])\n",
    "\n",
    "#Print accuracy and confusion matrix\n",
    "print(\"Accuracy RBF No Oversampling:\", metrics.accuracy_score(y_true=y_test, y_pred=labelPrediction), \"\\n\")\n",
    "\n",
    "#Get report on base model\n",
    "print(classification_report(y_test,prediction_base))"
   ],
   "metadata": {
    "collapsed": false
   }
  },
  {
   "cell_type": "code",
   "execution_count": null,
   "outputs": [],
   "source": [
    "from imblearn.over_sampling import SMOTE, ADASYN\n",
    "X_resampled, y_resampled = SMOTE().fit_resample(X_scaled, y)\n",
    "\n",
    "# Split the set into randomized training and test feature/label sets\n",
    "X_train, X_test, y_train, y_test = train_test_split(X_resampled, y_resampled, test_size = 0.3, train_size = 0.7 ,random_state = 10)\n",
    "\n",
    "# Create Model\n",
    "rbfKernelResampledModel = SVC(kernel='rbf')\n",
    "# Train Model\n",
    "rbfKernelResampledModel.fit(X_train, y_train)\n",
    "# Create label prediction\n",
    "labelPredictionResampled = rbfKernelResampledModel.predict(X_test)"
   ],
   "metadata": {
    "collapsed": false,
    "pycharm": {
     "is_executing": true
    }
   }
  },
  {
   "cell_type": "code",
   "execution_count": null,
   "outputs": [],
   "source": [
    "#Print accuracy and confusion matrix\n",
    "print(\"Accuracy RBF Resampled:\", metrics.accuracy_score(y_true=y_test, y_pred=labelPredictionResampled), \"\\n\")\n",
    "\n",
    "#baseline predictions, amd confusion matrix of the baseline model\n",
    "prediction_base_rbf = rbfKernelResampledModel.predict(X_test)\n",
    "print(confusion_matrix(y_test, prediction_base_rbf, labels=[0,1]))\n",
    "\n",
    "#Get report on base model\n",
    "print(classification_report(y_test,prediction_base_rbf))"
   ],
   "metadata": {
    "collapsed": false,
    "pycharm": {
     "is_executing": true
    }
   }
  },
  {
   "cell_type": "code",
   "execution_count": null,
   "outputs": [],
   "source": [
    "X_resampled, y_resampled = ADASYN().fit_resample(X_scaled, y)\n",
    "\n",
    "# Split the set into randomized training and test feature/label sets\n",
    "X_train, X_test, y_train, y_test = train_test_split(X_resampled, y_resampled, test_size = 0.3, train_size = 0.7 ,random_state = 10)\n",
    "\n",
    "# Create Model\n",
    "rbfKernelResampledModel = SVC(kernel='rbf')\n",
    "# Train Model\n",
    "rbfKernelResampledModel.fit(X_train, y_train)\n",
    "# Create label prediction\n",
    "labelPredictionResampled = rbfKernelResampledModel.predict(X_test)"
   ],
   "metadata": {
    "collapsed": false,
    "pycharm": {
     "is_executing": true
    }
   }
  },
  {
   "cell_type": "code",
   "execution_count": null,
   "outputs": [],
   "source": [
    "#Print accuracy and confusion matrix\n",
    "print(\"Accuracy RBF Resampled:\", metrics.accuracy_score(y_true=y_test, y_pred=labelPredictionResampled), \"\\n\")\n",
    "\n",
    "#baseline predictions, amd confusion matrix of the baseline model\n",
    "prediction_base_rbf = rbfKernelResampledModel.predict(X_test)\n",
    "print(confusion_matrix(y_test, prediction_base_rbf, labels=[0,1]))\n",
    "\n",
    "#Get report on base model\n",
    "print(classification_report(y_test,prediction_base_rbf))"
   ],
   "metadata": {
    "collapsed": false,
    "pycharm": {
     "is_executing": true
    }
   }
  },
  {
   "cell_type": "code",
   "execution_count": null,
   "outputs": [],
   "source": [
    "from sklearn.model_selection import KFold\n",
    "from sklearn.model_selection import GridSearchCV\n",
    "\n",
    "#Hyper parameter tuning for RBF Kernel SVM\n",
    "\n",
    "# Creating k fold object- 5 splits in it\n",
    "foldsGridSearch = KFold(n_splits = 5, shuffle = True, random_state = 10)\n",
    "\n",
    "# Set up the range of hyperparameters\n",
    "# Set the parameters by cross-validation\n",
    "paramsToSearch = [ {'gamma': [1e-2, 1e-3, 1e-4],\n",
    "                     'C': [5,10]}]\n",
    "\n",
    "\n",
    "# Set up SVC model for search/tuning\n",
    "modelSVC = SVC(kernel=\"rbf\")\n",
    "\n",
    "# Set up the GridSearch\n",
    "modelCrossValidation = GridSearchCV(estimator = modelSVC,\n",
    "                        param_grid = paramsToSearch,\n",
    "                        scoring= 'accuracy',\n",
    "                        cv = foldsGridSearch,\n",
    "                        verbose = 1,\n",
    "                        return_train_score=True)\n",
    "\n",
    "# Train the model\n",
    "modelCrossValidation.fit(X_train, y_train)"
   ],
   "metadata": {
    "collapsed": false,
    "pycharm": {
     "is_executing": true
    }
   }
  },
  {
   "cell_type": "code",
   "execution_count": null,
   "outputs": [],
   "source": [
    "#Getting the most optimal accuracy\n",
    "bestHyperparameterScore = modelCrossValidation.best_score_\n",
    "hyperParametersOptimal = modelCrossValidation.best_params_\n",
    "\n",
    "print(\"The most optimal accuracy for the hyperparameters is {0}  {1}\".format(bestHyperparameterScore, hyperParametersOptimal))"
   ],
   "metadata": {
    "collapsed": false,
    "pycharm": {
     "is_executing": true
    }
   }
  },
  {
   "cell_type": "code",
   "execution_count": null,
   "outputs": [],
   "source": [
    "# Create Model with optimal parameters\n",
    "rbfKernelResampledModel = SVC(C=10, gamma=0.01, kernel='rbf')\n",
    "# Train Model\n",
    "rbfKernelResampledModel.fit(X_train, y_train)\n",
    "# Create label prediction\n",
    "labelPredictionResampled = rbfKernelResampledModel.predict(X_test)\n",
    "\n",
    "#Print accuracy and confusion matrix\n",
    "print(\"Accuracy RBF Resampled:\", metrics.accuracy_score(y_true=y_test, y_pred=labelPredictionResampled), \"\\n\")\n",
    "\n",
    "#baseline predictions, amd confusion matrix of the baseline model\n",
    "prediction_base_rbf = rbfKernelResampledModel.predict(X_test)\n",
    "confusion_matrix(y_test, prediction_base_rbf, labels=[0,1])\n",
    "\n",
    "#Get report on base model\n",
    "print(classification_report(y_test,prediction_base_rbf))"
   ],
   "metadata": {
    "collapsed": false,
    "pycharm": {
     "is_executing": true
    }
   }
  }
 ],
 "metadata": {
  "kernelspec": {
   "display_name": "Python 3",
   "language": "python",
   "name": "python3"
  },
  "language_info": {
   "codemirror_mode": {
    "name": "ipython",
    "version": 2
   },
   "file_extension": ".py",
   "mimetype": "text/x-python",
   "name": "python",
   "nbconvert_exporter": "python",
   "pygments_lexer": "ipython2",
   "version": "2.7.6"
  }
 },
 "nbformat": 4,
 "nbformat_minor": 0
}
