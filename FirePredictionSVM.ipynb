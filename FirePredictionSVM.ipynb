{
 "cells": [
  {
   "cell_type": "code",
   "execution_count": 2,
   "metadata": {
    "collapsed": true
   },
   "outputs": [],
   "source": [
    "from sklearn.tree import DecisionTreeClassifier\n",
    "import pandas as pd\n",
    "from sklearn.model_selection import train_test_split\n",
    "from sklearn.metrics import confusion_matrix\n",
    "from sklearn.metrics import classification_report\n",
    "from sklearn.svm import SVC\n",
    "from sklearn.preprocessing import scale\n",
    "from sklearn import metrics\n",
    "\n",
    "#Read data from the spreadsheet\n",
    "data = pd.read_csv(\"cleaned_mlready_combinedData1.csv\")"
   ]
  },
  {
   "cell_type": "code",
   "execution_count": 3,
   "outputs": [
    {
     "data": {
      "text/plain": "(7271, 15)"
     },
     "execution_count": 3,
     "metadata": {},
     "output_type": "execute_result"
    }
   ],
   "source": [
    "# check out fire and no fire ratio\n",
    "data[\"Fire\"].value_counts()\n",
    "data.dropna()\n",
    "data.shape"
   ],
   "metadata": {
    "collapsed": false
   }
  },
  {
   "cell_type": "code",
   "execution_count": 4,
   "outputs": [],
   "source": [
    "## Set up the label variable as y\n",
    "y = data['Fire']\n",
    "\n",
    "## Dropping feature 'label'\n",
    "X = data.drop(columns = 'Fire')"
   ],
   "metadata": {
    "collapsed": false
   }
  },
  {
   "cell_type": "code",
   "execution_count": 5,
   "outputs": [],
   "source": [
    "# Scale the set\n",
    "X_scaled = scale(X)"
   ],
   "metadata": {
    "collapsed": false
   }
  },
  {
   "cell_type": "code",
   "execution_count": 6,
   "outputs": [
    {
     "name": "stdout",
     "output_type": "stream",
     "text": [
      "(2908, 14)\n",
      "(4363, 14)\n",
      "(2908,)\n",
      "(4363,)\n"
     ]
    }
   ],
   "source": [
    "# Split the set into randomized training and test feature/label sets\n",
    "X_train, X_test, y_train, y_test = train_test_split(X_scaled, y, test_size = 0.6, train_size = 0.4 ,random_state = 4)\n",
    "\n",
    "print(X_train.shape)\n",
    "print(X_test.shape)\n",
    "print(y_train.shape)\n",
    "print(y_test.shape)"
   ],
   "metadata": {
    "collapsed": false
   }
  },
  {
   "cell_type": "code",
   "execution_count": 7,
   "outputs": [
    {
     "name": "stdout",
     "output_type": "stream",
     "text": [
      "Accuracy RBF: 0.9841851936740774 \n",
      "\n"
     ]
    }
   ],
   "source": [
    "# RBF Kernel, C=1, default value of gamma\n",
    "\n",
    "# Create Model\n",
    "rbfKernelModel = SVC(C=100, gamma=50, kernel='rbf')\n",
    "# Train Model\n",
    "rbfKernelModel.fit(X_train, y_train)\n",
    "# Create label prediction\n",
    "labelPrediction = rbfKernelModel.predict(X_test)\n",
    "\n",
    "#Print accuracy and confusion matrix\n",
    "print(\"Accuracy RBF:\", metrics.accuracy_score(y_true=y_test, y_pred=labelPrediction), \"\\n\")"
   ],
   "metadata": {
    "collapsed": false
   }
  },
  {
   "cell_type": "code",
   "execution_count": 8,
   "outputs": [
    {
     "name": "stdout",
     "output_type": "stream",
     "text": [
      "              precision    recall  f1-score   support\n",
      "\n",
      "           0       0.98      1.00      0.99      4294\n",
      "           1       0.00      0.00      0.00        69\n",
      "\n",
      "    accuracy                           0.98      4363\n",
      "   macro avg       0.49      0.50      0.50      4363\n",
      "weighted avg       0.97      0.98      0.98      4363\n",
      "\n"
     ]
    },
    {
     "name": "stderr",
     "output_type": "stream",
     "text": [
      "C:\\Users\\Josh\\Desktop\\Class\\Comp 542\\Comp 542 Project\\venv\\lib\\site-packages\\sklearn\\metrics\\_classification.py:1318: UndefinedMetricWarning: Precision and F-score are ill-defined and being set to 0.0 in labels with no predicted samples. Use `zero_division` parameter to control this behavior.\n",
      "  _warn_prf(average, modifier, msg_start, len(result))\n",
      "C:\\Users\\Josh\\Desktop\\Class\\Comp 542\\Comp 542 Project\\venv\\lib\\site-packages\\sklearn\\metrics\\_classification.py:1318: UndefinedMetricWarning: Precision and F-score are ill-defined and being set to 0.0 in labels with no predicted samples. Use `zero_division` parameter to control this behavior.\n",
      "  _warn_prf(average, modifier, msg_start, len(result))\n",
      "C:\\Users\\Josh\\Desktop\\Class\\Comp 542\\Comp 542 Project\\venv\\lib\\site-packages\\sklearn\\metrics\\_classification.py:1318: UndefinedMetricWarning: Precision and F-score are ill-defined and being set to 0.0 in labels with no predicted samples. Use `zero_division` parameter to control this behavior.\n",
      "  _warn_prf(average, modifier, msg_start, len(result))\n"
     ]
    }
   ],
   "source": [
    "#baseline predictions, amd confusion matrix of the baseline model\n",
    "prediction_base = rbfKernelModel.predict(X_test)\n",
    "confusion_matrix(y_test, prediction_base, labels=[0,1])\n",
    "\n",
    "#Get report on base model\n",
    "print(classification_report(y_test,prediction_base))"
   ],
   "metadata": {
    "collapsed": false
   }
  },
  {
   "cell_type": "code",
   "execution_count": 11,
   "outputs": [],
   "source": [
    "from imblearn.over_sampling import SMOTE, ADASYN\n",
    "X_resampled, y_resampled = SMOTE().fit_resample(X_scaled, y)\n",
    "\n",
    "# Split the set into randomized training and test feature/label sets\n",
    "X_train, X_test, y_train, y_test = train_test_split(X_resampled, y_resampled, test_size = 0.3, train_size = 0.7 ,random_state = 10)\n",
    "\n",
    "# Create Model\n",
    "rbfKernelResampledModel = SVC(kernel='rbf')\n",
    "# Train Model\n",
    "rbfKernelResampledModel.fit(X_train, y_train)\n",
    "# Create label prediction\n",
    "labelPredictionResampled = rbfKernelResampledModel.predict(X_test)"
   ],
   "metadata": {
    "collapsed": false
   }
  },
  {
   "cell_type": "code",
   "execution_count": 12,
   "outputs": [
    {
     "name": "stdout",
     "output_type": "stream",
     "text": [
      "Accuracy RBF Resampled: 0.8595714951094551 \n",
      "\n",
      "              precision    recall  f1-score   support\n",
      "\n",
      "           0       0.98      0.74      0.84      2169\n",
      "           1       0.79      0.98      0.87      2125\n",
      "\n",
      "    accuracy                           0.86      4294\n",
      "   macro avg       0.88      0.86      0.86      4294\n",
      "weighted avg       0.88      0.86      0.86      4294\n",
      "\n"
     ]
    }
   ],
   "source": [
    "#Print accuracy and confusion matrix\n",
    "print(\"Accuracy RBF Resampled:\", metrics.accuracy_score(y_true=y_test, y_pred=labelPredictionResampled), \"\\n\")\n",
    "\n",
    "#baseline predictions, amd confusion matrix of the baseline model\n",
    "prediction_base_rbf = rbfKernelResampledModel.predict(X_test)\n",
    "confusion_matrix(y_test, prediction_base_rbf, labels=[0,1])\n",
    "\n",
    "#Get report on base model\n",
    "print(classification_report(y_test,prediction_base_rbf))"
   ],
   "metadata": {
    "collapsed": false
   }
  },
  {
   "cell_type": "code",
   "execution_count": 13,
   "outputs": [],
   "source": [
    "X_resampled, y_resampled = ADASYN().fit_resample(X_scaled, y)\n",
    "\n",
    "# Split the set into randomized training and test feature/label sets\n",
    "X_train, X_test, y_train, y_test = train_test_split(X_resampled, y_resampled, test_size = 0.3, train_size = 0.7 ,random_state = 10)\n",
    "\n",
    "# Create Model\n",
    "rbfKernelResampledModel = SVC(kernel='rbf')\n",
    "# Train Model\n",
    "rbfKernelResampledModel.fit(X_train, y_train)\n",
    "# Create label prediction\n",
    "labelPredictionResampled = rbfKernelResampledModel.predict(X_test)"
   ],
   "metadata": {
    "collapsed": false
   }
  },
  {
   "cell_type": "code",
   "execution_count": 14,
   "outputs": [
    {
     "name": "stdout",
     "output_type": "stream",
     "text": [
      "Accuracy RBF Resampled: 0.8603351955307262 \n",
      "\n",
      "              precision    recall  f1-score   support\n",
      "\n",
      "           0       0.97      0.74      0.84      2145\n",
      "           1       0.79      0.98      0.88      2151\n",
      "\n",
      "    accuracy                           0.86      4296\n",
      "   macro avg       0.88      0.86      0.86      4296\n",
      "weighted avg       0.88      0.86      0.86      4296\n",
      "\n"
     ]
    }
   ],
   "source": [
    "#Print accuracy and confusion matrix\n",
    "print(\"Accuracy RBF Resampled:\", metrics.accuracy_score(y_true=y_test, y_pred=labelPredictionResampled), \"\\n\")\n",
    "\n",
    "#baseline predictions, amd confusion matrix of the baseline model\n",
    "prediction_base_rbf = rbfKernelResampledModel.predict(X_test)\n",
    "confusion_matrix(y_test, prediction_base_rbf, labels=[0,1])\n",
    "\n",
    "#Get report on base model\n",
    "print(classification_report(y_test,prediction_base_rbf))"
   ],
   "metadata": {
    "collapsed": false
   }
  },
  {
   "cell_type": "code",
   "execution_count": 16,
   "outputs": [
    {
     "name": "stdout",
     "output_type": "stream",
     "text": [
      "Fitting 5 folds for each of 6 candidates, totalling 30 fits\n"
     ]
    },
    {
     "data": {
      "text/plain": "GridSearchCV(cv=KFold(n_splits=5, random_state=10, shuffle=True),\n             estimator=SVC(),\n             param_grid=[{'C': [5, 10], 'gamma': [0.01, 0.001, 0.0001]}],\n             return_train_score=True, scoring='accuracy', verbose=1)"
     },
     "execution_count": 16,
     "metadata": {},
     "output_type": "execute_result"
    }
   ],
   "source": [
    "from sklearn.model_selection import validation_curve\n",
    "from sklearn.model_selection import KFold\n",
    "from sklearn.model_selection import cross_val_score\n",
    "from sklearn.model_selection import GridSearchCV\n",
    "\n",
    "#Hyper parameter tuning for RBF Kernel SVM\n",
    "\n",
    "# creating a KFold object with 5 splits\n",
    "folds = KFold(n_splits = 5, shuffle = True, random_state = 10)\n",
    "\n",
    "# specify range of hyperparameters\n",
    "# Set the parameters by cross-validation\n",
    "hyper_params = [ {'gamma': [1e-2, 1e-3, 1e-4],\n",
    "                     'C': [5,10]}]\n",
    "\n",
    "\n",
    "# specify model\n",
    "model = SVC(kernel=\"rbf\")\n",
    "\n",
    "# set up GridSearchCV()\n",
    "model_cv = GridSearchCV(estimator = model,\n",
    "                        param_grid = hyper_params,\n",
    "                        scoring= 'accuracy',\n",
    "                        cv = folds,\n",
    "                        verbose = 1,\n",
    "                        return_train_score=True)\n",
    "\n",
    "# fit the model\n",
    "model_cv.fit(X_train, y_train)"
   ],
   "metadata": {
    "collapsed": false
   }
  },
  {
   "cell_type": "code",
   "execution_count": 17,
   "outputs": [
    {
     "data": {
      "text/plain": "<Figure size 1600x800 with 3 Axes>",
      "image/png": "[encoded data removed]"
     },
     "metadata": {},
     "output_type": "display_data"
    }
   ],
   "source": [
    "import matplotlib.pyplot as plt\n",
    "\n",
    "# cv results\n",
    "cv_results = pd.DataFrame(model_cv.cv_results_)\n",
    "cv_results\n",
    "\n",
    "# converting C to numeric type for plotting on x-axis\n",
    "cv_results['param_C'] = cv_results['param_C'].astype('int')\n",
    "\n",
    "# # plotting\n",
    "plt.figure(figsize=(16,8))\n",
    "\n",
    "# subplot 1/3\n",
    "plt.subplot(131)\n",
    "gamma_01 = cv_results[cv_results['param_gamma']==0.01]\n",
    "\n",
    "plt.plot(gamma_01[\"param_C\"], gamma_01[\"mean_test_score\"])\n",
    "plt.plot(gamma_01[\"param_C\"], gamma_01[\"mean_train_score\"])\n",
    "plt.xlabel('C')\n",
    "plt.ylabel('Accuracy')\n",
    "plt.title(\"Gamma=0.01\")\n",
    "plt.ylim([0.60, 1])\n",
    "plt.legend(['test accuracy', 'train accuracy'], loc='upper left')\n",
    "plt.xscale('log')\n",
    "\n",
    "# subplot 2/3\n",
    "plt.subplot(132)\n",
    "gamma_001 = cv_results[cv_results['param_gamma']==0.001]\n",
    "\n",
    "plt.plot(gamma_001[\"param_C\"], gamma_001[\"mean_test_score\"])\n",
    "plt.plot(gamma_001[\"param_C\"], gamma_001[\"mean_train_score\"])\n",
    "plt.xlabel('C')\n",
    "plt.ylabel('Accuracy')\n",
    "plt.title(\"Gamma=0.001\")\n",
    "plt.ylim([0.60, 1])\n",
    "plt.legend(['test accuracy', 'train accuracy'], loc='upper left')\n",
    "plt.xscale('log')\n",
    "\n",
    "\n",
    "# subplot 3/3\n",
    "plt.subplot(133)\n",
    "gamma_0001 = cv_results[cv_results['param_gamma']==0.0001]\n",
    "\n",
    "plt.plot(gamma_0001[\"param_C\"], gamma_0001[\"mean_test_score\"])\n",
    "plt.plot(gamma_0001[\"param_C\"], gamma_0001[\"mean_train_score\"])\n",
    "plt.xlabel('C')\n",
    "plt.ylabel('Accuracy')\n",
    "plt.title(\"Gamma=0.0001\")\n",
    "plt.ylim([0.60, 1])\n",
    "plt.legend(['test accuracy', 'train accuracy'], loc='upper left')\n",
    "plt.xscale('log')"
   ],
   "metadata": {
    "collapsed": false
   }
  },
  {
   "cell_type": "code",
   "execution_count": 18,
   "outputs": [
    {
     "name": "stdout",
     "output_type": "stream",
     "text": [
      "The best test score is 0.8413339903733679 corresponding to hyperparameters {'C': 10, 'gamma': 0.01}\n"
     ]
    }
   ],
   "source": [
    "# printing the optimal accuracy score and hyperparameters\n",
    "best_score = model_cv.best_score_\n",
    "best_hyperparams = model_cv.best_params_\n",
    "\n",
    "print(\"The best test score is {0} corresponding to hyperparameters {1}\".format(best_score, best_hyperparams))"
   ],
   "metadata": {
    "collapsed": false
   }
  },
  {
   "cell_type": "code",
   "execution_count": 23,
   "outputs": [
    {
     "name": "stdout",
     "output_type": "stream",
     "text": [
      "Accuracy RBF Resampled: 0.8603351955307262 \n",
      "\n",
      "              precision    recall  f1-score   support\n",
      "\n",
      "           0       0.97      0.74      0.84      2145\n",
      "           1       0.79      0.98      0.88      2151\n",
      "\n",
      "    accuracy                           0.86      4296\n",
      "   macro avg       0.88      0.86      0.86      4296\n",
      "weighted avg       0.88      0.86      0.86      4296\n",
      "\n"
     ]
    }
   ],
   "source": [
    "# Create Model with optimal parameters\n",
    "rbfKernelResampledModel = SVC(kernel='rbf')\n",
    "# Train Model\n",
    "rbfKernelResampledModel.fit(X_train, y_train)\n",
    "# Create label prediction\n",
    "labelPredictionResampled = rbfKernelResampledModel.predict(X_test)\n",
    "\n",
    "#Print accuracy and confusion matrix\n",
    "print(\"Accuracy RBF Resampled:\", metrics.accuracy_score(y_true=y_test, y_pred=labelPredictionResampled), \"\\n\")\n",
    "\n",
    "#baseline predictions, amd confusion matrix of the baseline model\n",
    "prediction_base_rbf = rbfKernelResampledModel.predict(X_test)\n",
    "confusion_matrix(y_test, prediction_base_rbf, labels=[0,1])\n",
    "\n",
    "#Get report on base model\n",
    "print(classification_report(y_test,prediction_base_rbf))"
   ],
   "metadata": {
    "collapsed": false
   }
  }
 ],
 "metadata": {
  "kernelspec": {
   "display_name": "Python 3",
   "language": "python",
   "name": "python3"
  },
  "language_info": {
   "codemirror_mode": {
    "name": "ipython",
    "version": 2
   },
   "file_extension": ".py",
   "mimetype": "text/x-python",
   "name": "python",
   "nbconvert_exporter": "python",
   "pygments_lexer": "ipython2",
   "version": "2.7.6"
  }
 },
 "nbformat": 4,
 "nbformat_minor": 0
}
